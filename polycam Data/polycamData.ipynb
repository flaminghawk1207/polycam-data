{
 "cells": [
  {
   "cell_type": "markdown",
   "id": "c3401025",
   "metadata": {},
   "source": [
    "# Polycam lidar data"
   ]
  },
  {
   "cell_type": "code",
   "execution_count": 1,
   "id": "911ec106",
   "metadata": {},
   "outputs": [],
   "source": [
    "import numpy as np"
   ]
  },
  {
   "cell_type": "code",
   "execution_count": 2,
   "id": "1e5d1984",
   "metadata": {},
   "outputs": [],
   "source": [
    "import open3d as o3d"
   ]
  },
  {
   "cell_type": "code",
   "execution_count": 3,
   "id": "5cc84b5a",
   "metadata": {},
   "outputs": [],
   "source": [
    "pc_ply=o3d.io.read_point_cloud(\"sitting.ply\")"
   ]
  },
  {
   "cell_type": "markdown",
   "id": "6ea2f016",
   "metadata": {},
   "source": [
    "### Visualization:"
   ]
  },
  {
   "cell_type": "code",
   "execution_count": 4,
   "id": "f7c533b1",
   "metadata": {},
   "outputs": [
    {
     "name": "stdout",
     "output_type": "stream",
     "text": [
      "\u001b[1;33m[Open3D WARNING] GLFW Error: Cocoa: Failed to find service port for display\u001b[0;m\n"
     ]
    }
   ],
   "source": [
    "o3d.visualization.draw_geometries([pc_ply])"
   ]
  },
  {
   "cell_type": "markdown",
   "id": "783e372b",
   "metadata": {},
   "source": [
    "### Voxel Downsampling:"
   ]
  },
  {
   "cell_type": "code",
   "execution_count": 6,
   "id": "5d503e7a",
   "metadata": {},
   "outputs": [],
   "source": [
    "downpcd=pc_ply.voxel_down_sample(voxel_size=0.05)\n"
   ]
  },
  {
   "cell_type": "code",
   "execution_count": null,
   "id": "090f20de",
   "metadata": {},
   "outputs": [],
   "source": [
    "o3d.visualization.draw_geometries([downpcd])"
   ]
  },
  {
   "cell_type": "markdown",
   "id": "81c805f5",
   "metadata": {},
   "source": [
    "### Surface reconstruction:"
   ]
  },
  {
   "cell_type": "code",
   "execution_count": 6,
   "id": "263bd835",
   "metadata": {},
   "outputs": [],
   "source": [
    "import matplotlib.pyplot as plt\n",
    "import os\n",
    "import sys"
   ]
  },
  {
   "cell_type": "code",
   "execution_count": 7,
   "id": "d2ae0084",
   "metadata": {},
   "outputs": [
    {
     "name": "stdout",
     "output_type": "stream",
     "text": [
      "alpha=0.070\n",
      "\u001b[1;33m[Open3D WARNING] GLFW Error: Cocoa: Failed to find service port for display\u001b[0;m\n"
     ]
    }
   ],
   "source": [
    "alpha=0.07\n",
    "print(f\"alpha={alpha:.3f}\")\n",
    "mesh=o3d.geometry.TriangleMesh.create_from_point_cloud_alpha_shape(pc_ply,alpha)\n",
    "o3d.visualization.draw_geometries([mesh],mesh_show_back_face=True)"
   ]
  },
  {
   "cell_type": "markdown",
   "id": "7308ec1c",
   "metadata": {},
   "source": [
    "### Outliers:"
   ]
  },
  {
   "cell_type": "code",
   "execution_count": 1,
   "id": "0838171a",
   "metadata": {},
   "outputs": [],
   "source": [
    "#this function finds the outliers in the data and visualizes the point cloud data by showing \n",
    "#the \n",
    "def display_inlier_outlier(cloud, ind):\n",
    "    inlier_cloud = cloud.select_by_index(ind)\n",
    "    outlier_cloud = cloud.select_by_index(ind, invert=True)\n",
    "\n",
    "    print(\"Showing outliers (red) and inliers (gray): \")\n",
    "    outlier_cloud.paint_uniform_color([1, 0, 0])\n",
    "    inlier_cloud.paint_uniform_color([0.8, 0.8, 0.8])\n",
    "    o3d.visualization.draw_geometries([inlier_cloud, outlier_cloud])"
   ]
  },
  {
   "cell_type": "markdown",
   "id": "b2e78e36",
   "metadata": {},
   "source": [
    "### Statistical Outliers:"
   ]
  },
  {
   "cell_type": "code",
   "execution_count": 8,
   "id": "de6c4623",
   "metadata": {},
   "outputs": [
    {
     "name": "stdout",
     "output_type": "stream",
     "text": [
      "Showing outliers (red) and inliers (gray): \n",
      "\u001b[1;33m[Open3D WARNING] GLFW Error: Cocoa: Failed to find service port for display\u001b[0;m\n"
     ]
    }
   ],
   "source": [
    "cl,ind=downpcd.remove_statistical_outlier(nb_neighbors=20,std_ratio=2.0)\n",
    "display_inlier_outlier(downpcd,ind)"
   ]
  },
  {
   "cell_type": "code",
   "execution_count": null,
   "id": "eff971ff",
   "metadata": {},
   "outputs": [],
   "source": []
  }
 ],
 "metadata": {
  "kernelspec": {
   "display_name": "Python 3 (ipykernel)",
   "language": "python",
   "name": "python3"
  },
  "language_info": {
   "codemirror_mode": {
    "name": "ipython",
    "version": 3
   },
   "file_extension": ".py",
   "mimetype": "text/x-python",
   "name": "python",
   "nbconvert_exporter": "python",
   "pygments_lexer": "ipython3",
   "version": "3.7.16"
  }
 },
 "nbformat": 4,
 "nbformat_minor": 5
}
