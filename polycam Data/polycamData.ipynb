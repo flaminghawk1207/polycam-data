{
 "cells": [
  {
   "cell_type": "markdown",
   "id": "c3401025",
   "metadata": {},
   "source": [
    "# Polycam lidar data"
   ]
  },
  {
   "cell_type": "code",
   "execution_count": 1,
   "id": "911ec106",
   "metadata": {},
   "outputs": [],
   "source": [
    "import numpy as np\n",
    "import matplotlib.pyplot as plt\n",
    "import sklearn.cluster\n",
    "import sklearn.preprocessing\n",
    "import trimesh\n",
    "from sklearn.cluster import KMeans"
   ]
  },
  {
   "cell_type": "code",
   "execution_count": 2,
   "id": "1e5d1984",
   "metadata": {},
   "outputs": [],
   "source": [
    "import open3d as o3d"
   ]
  },
  {
   "cell_type": "code",
   "execution_count": 3,
   "id": "5cc84b5a",
   "metadata": {},
   "outputs": [],
   "source": [
    "#changing the name of the ply file for different data\n",
    "pc_ply=o3d.io.read_point_cloud(\"standing.ply\")"
   ]
  },
  {
   "cell_type": "markdown",
   "id": "6ea2f016",
   "metadata": {},
   "source": [
    "### Visualization:"
   ]
  },
  {
   "cell_type": "code",
   "execution_count": null,
   "id": "f7c533b1",
   "metadata": {},
   "outputs": [],
   "source": [
    "o3d.visualization.draw_geometries([pc_ply])"
   ]
  },
  {
   "cell_type": "markdown",
   "id": "783e372b",
   "metadata": {},
   "source": [
    "### Voxel Downsampling:"
   ]
  },
  {
   "cell_type": "code",
   "execution_count": 4,
   "id": "5d503e7a",
   "metadata": {},
   "outputs": [],
   "source": [
    "downpcd=pc_ply.voxel_down_sample(voxel_size=0.1)\n"
   ]
  },
  {
   "cell_type": "code",
   "execution_count": null,
   "id": "090f20de",
   "metadata": {},
   "outputs": [],
   "source": [
    "o3d.visualization.draw_geometries([downpcd])"
   ]
  },
  {
   "cell_type": "markdown",
   "id": "81c805f5",
   "metadata": {},
   "source": [
    "### Surface reconstruction:"
   ]
  },
  {
   "cell_type": "code",
   "execution_count": null,
   "id": "263bd835",
   "metadata": {},
   "outputs": [],
   "source": [
    "import matplotlib.pyplot as plt\n",
    "import os\n",
    "import sys"
   ]
  },
  {
   "cell_type": "code",
   "execution_count": null,
   "id": "d2ae0084",
   "metadata": {},
   "outputs": [],
   "source": [
    "alpha=0.07\n",
    "print(f\"alpha={alpha:.3f}\")\n",
    "mesh=o3d.geometry.TriangleMesh.create_from_point_cloud_alpha_shape(pc_ply,alpha)\n",
    "o3d.visualization.draw_geometries([mesh],mesh_show_back_face=True)"
   ]
  },
  {
   "cell_type": "markdown",
   "id": "7308ec1c",
   "metadata": {},
   "source": [
    "### Outliers:"
   ]
  },
  {
   "cell_type": "code",
   "execution_count": null,
   "id": "0838171a",
   "metadata": {},
   "outputs": [],
   "source": [
    "#this function finds the outliers in the data and visualizes the point cloud data by showing \n",
    "#the \n",
    "def display_inlier_outlier(cloud, ind):\n",
    "    inlier_cloud = cloud.select_by_index(ind)\n",
    "    outlier_cloud = cloud.select_by_index(ind, invert=True)\n",
    "\n",
    "    print(\"Showing outliers (red) and inliers (gray): \")\n",
    "    outlier_cloud.paint_uniform_color([1, 0, 0])\n",
    "    inlier_cloud.paint_uniform_color([0.8, 0.8, 0.8])\n",
    "    o3d.visualization.draw_geometries([inlier_cloud, outlier_cloud])"
   ]
  },
  {
   "cell_type": "markdown",
   "id": "b2e78e36",
   "metadata": {},
   "source": [
    "### Statistical Outliers:"
   ]
  },
  {
   "cell_type": "code",
   "execution_count": null,
   "id": "de6c4623",
   "metadata": {},
   "outputs": [],
   "source": [
    "cl,ind=downpcd.remove_statistical_outlier(nb_neighbors=20,std_ratio=2.0)\n",
    "display_inlier_outlier(downpcd,ind)"
   ]
  },
  {
   "cell_type": "markdown",
   "id": "b21d1ace",
   "metadata": {},
   "source": [
    "### Voxel normal estimation:"
   ]
  },
  {
   "cell_type": "code",
   "execution_count": null,
   "id": "8667875a",
   "metadata": {},
   "outputs": [],
   "source": [
    "downpcd.estimate_normals(search_param=o3d.geometry.KDTreeSearchParamHybrid(radius=0.2,max_nn=50))"
   ]
  },
  {
   "cell_type": "code",
   "execution_count": null,
   "id": "bbaaefeb",
   "metadata": {},
   "outputs": [],
   "source": [
    "o3d.visualization.draw_geometries([downpcd])"
   ]
  },
  {
   "cell_type": "markdown",
   "id": "7e749fe2",
   "metadata": {},
   "source": [
    "### method2:"
   ]
  },
  {
   "cell_type": "code",
   "execution_count": null,
   "id": "439d5696",
   "metadata": {},
   "outputs": [],
   "source": [
    "segment_models={}\n",
    "segments={}\n",
    "max_plane_idx=20\n",
    "rest=pc_ply\n",
    "for i in range(max_plane_idx):\n",
    "    colors = plt.get_cmap(\"tab20\")(i)\n",
    "    segment_models[i], inliers = rest.segment_plane(distance_threshold=0.02,ransac_n=5,num_iterations=1000)\n",
    "    segments[i]=rest.select_by_index(inliers)\n",
    "    segments[i].paint_uniform_color(list(colors[:3]))\n",
    "    rest = rest.select_by_index(inliers, invert=True)\n",
    "    print(\"pass\",i,\"/\",max_plane_idx,\"done.\")"
   ]
  },
  {
   "cell_type": "code",
   "execution_count": null,
   "id": "d32cd2aa",
   "metadata": {},
   "outputs": [],
   "source": [
    "o3d.visualization.draw_geometries([segments[i] for i in range(max_plane_idx)]+[rest])"
   ]
  },
  {
   "cell_type": "markdown",
   "id": "a11f91e9",
   "metadata": {},
   "source": [
    "### method 3:"
   ]
  },
  {
   "cell_type": "code",
   "execution_count": null,
   "id": "7028c0d8",
   "metadata": {},
   "outputs": [],
   "source": [
    "segment_models={}\n",
    "segments={}\n",
    "max_plane_idx=20\n",
    "rest=pc_ply\n",
    "d_threshold=0.02\n",
    "for i in range(max_plane_idx):\n",
    "    colors = plt.get_cmap(\"tab20\")(i)\n",
    "    segment_models[i], inliers = rest.segment_plane(distance_threshold=0.02,ransac_n=5,num_iterations=1000)\n",
    "    segments[i]=rest.select_by_index(inliers)\n",
    "    labels = np.array(segments[i].cluster_dbscan(eps=d_threshold*10, min_points=10))\n",
    "    print(labels)\n",
    "    candidates=[len(np.where(labels==j)[0]) for j in np.unique(labels)]\n",
    "    best_candidate=int(np.unique(labels)[np.where(candidates==np.max(candidates))[0]])\n",
    "    print(\"the best candidate is: \", best_candidate)\n",
    "    rest = rest.select_by_index(inliers, invert=True)+segments[i].select_by_index(list(np.where(labels!=best_candidate)[0]))\n",
    "    segments[i]=segments[i].select_by_index(list(np.where(labels==best_candidate)[0]))\n",
    "    segments[i].paint_uniform_color(list(colors[:3]))\n",
    "    print(\"pass\",i+1,\"/\",max_plane_idx,\"done.\")"
   ]
  },
  {
   "cell_type": "code",
   "execution_count": null,
   "id": "70690d18",
   "metadata": {},
   "outputs": [],
   "source": [
    "labels = np.array(rest.cluster_dbscan(eps=0.05, min_points=5))\n",
    "max_label = labels.max()\n",
    "print(f\"point cloud has {max_label + 1} clusters\")\n",
    "\n",
    "colors = plt.get_cmap(\"tab10\")(labels / (max_label if max_label > 0 else 1))\n",
    "colors[labels < 0] = 0\n",
    "rest.colors = o3d.utility.Vector3dVector(colors[:, :3])\n",
    "\n",
    "# o3d.visualization.draw_geometries([segments.values()])\n",
    "o3d.visualization.draw_geometries([segments[i] for i in range(max_plane_idx)]+[rest])\n",
    "#o3d.visualization.draw_geometries([segments[i]for i in range(max_plane_idx)]+[rest])\n",
    "# o3d.visualization.draw_geometries([rest])\n",
    "# ax=plt.axes(projection='3d')"
   ]
  },
  {
   "cell_type": "code",
   "execution_count": null,
   "id": "c5c6c6d4",
   "metadata": {},
   "outputs": [],
   "source": []
  }
 ],
 "metadata": {
  "kernelspec": {
   "display_name": "Python 3 (ipykernel)",
   "language": "python",
   "name": "python3"
  },
  "language_info": {
   "codemirror_mode": {
    "name": "ipython",
    "version": 3
   },
   "file_extension": ".py",
   "mimetype": "text/x-python",
   "name": "python",
   "nbconvert_exporter": "python",
   "pygments_lexer": "ipython3",
   "version": "3.7.16"
  }
 },
 "nbformat": 4,
 "nbformat_minor": 5
}
